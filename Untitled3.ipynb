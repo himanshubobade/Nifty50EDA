{
 "cells": [
  {
   "cell_type": "code",
   "execution_count": 7,
   "metadata": {},
   "outputs": [],
   "source": [
    "l1 = [[{'degree':'BE1','age':21},{'degree':'BE2'},{'degree':'BE3','age':21}],[{'degree':'BTech1'},{'degree':'BTech2','age':21}],[{'degree':'BCom'}],[{'degree':'Mtech1'},{'degree':'Mtech2','age':21},{'degree':'Mtech3'},{'degree':'Mtech4'},{'degree':'Mtech5','age':21}]]"
   ]
  },
  {
   "cell_type": "code",
   "execution_count": 29,
   "metadata": {},
   "outputs": [
    {
     "name": "stdout",
     "output_type": "stream",
     "text": [
      "[[{'degree': 'BE1', 'age': 21}, {'degree': 'BE2'}, {'degree': 'BE3', 'age': 21}], [{'degree': 'BTech1'}, {'degree': 'BTech2', 'age': 21}], [{'degree': 'BCom'}], [{'degree': 'Mtech1'}, {'degree': 'Mtech2', 'age': 21}, {'degree': 'Mtech3'}, {'degree': 'Mtech4'}, {'degree': 'Mtech5', 'age': 21}]]\n"
     ]
    }
   ],
   "source": [
    "print(l1)"
   ]
  },
  {
   "cell_type": "code",
   "execution_count": 28,
   "metadata": {},
   "outputs": [
    {
     "name": "stdout",
     "output_type": "stream",
     "text": [
      "[['BE1', 'BE2', 'BE3'], ['BTech1', 'BTech2'], ['BCom'], ['Mtech1', 'Mtech2', 'Mtech3', 'Mtech4', 'Mtech5']]\n"
     ]
    }
   ],
   "source": [
    "l3=[]\n",
    "for i in range(len(l1)):\n",
    "    l2=[]\n",
    "    for j in range(len(l1[i])):\n",
    "        #keys=list(l1[i][j])\n",
    "        #print(l1[i][j],keys)\n",
    "        if l1[i][j]['degree']:\n",
    "            l2.append(l1[i][j]['degree'])\n",
    "    l3.append(l2)\n",
    "print(l3)"
   ]
  }
 ],
 "metadata": {
  "kernelspec": {
   "display_name": "Python 3",
   "language": "python",
   "name": "python3"
  },
  "language_info": {
   "codemirror_mode": {
    "name": "ipython",
    "version": 3
   },
   "file_extension": ".py",
   "mimetype": "text/x-python",
   "name": "python",
   "nbconvert_exporter": "python",
   "pygments_lexer": "ipython3",
   "version": "3.8.5"
  }
 },
 "nbformat": 4,
 "nbformat_minor": 4
}
