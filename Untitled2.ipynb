{
 "cells": [
  {
   "cell_type": "code",
   "execution_count": 4,
   "metadata": {},
   "outputs": [
    {
     "name": "stdout",
     "output_type": "stream",
     "text": [
      "2\n",
      "3\n",
      "2 6 12\n",
      "4\n",
      "4 5 6 15\n",
      "[3, 4]\n",
      "[[2, 6, 12], [4, 5, 6, 15]]\n"
     ]
    }
   ],
   "source": [
    "n=int(input())\n",
    "test_cases=[]\n",
    "elements_of_test_case=[]\n",
    "for i in range(n):\n",
    "    elements=[]\n",
    "    text_case=int(input())\n",
    "    test_cases.append(text_case)\n",
    "    elements = list(map(int, input().split()))\n",
    "    elements_of_test_case.append(elements)\n",
    "    \n",
    "print(test_cases)\n",
    "print(elements_of_test_case)"
   ]
  },
  {
   "cell_type": "code",
   "execution_count": 53,
   "metadata": {},
   "outputs": [],
   "source": [
    "import math\n",
    "def primeFactors(n):\n",
    "    factors=[]\n",
    "    while n % 2 == 0:\n",
    "        factors.append(2)\n",
    "        n = n / 2\n",
    "    for i in range(3,int(math.sqrt(n))+1,2):\n",
    "        while n % i== 0:\n",
    "            n = n / i\n",
    "    if n > 2:\n",
    "        factors.append(int(n)) \n",
    "        \n",
    "    factors=list(set(factors))\n",
    "    factors.sort()\n",
    "    return factors"
   ]
  },
  {
   "cell_type": "code",
   "execution_count": 83,
   "metadata": {},
   "outputs": [],
   "source": [
    "def prime_number(num):\n",
    "    flag = False\n",
    "    if num > 1:\n",
    "        # check for factors\n",
    "        for i in range(2, num):\n",
    "            if (num % i) == 0:\n",
    "                # if factor is found, set flag to True\n",
    "                flag = True\n",
    "                # break out of loop\n",
    "                break\n",
    "\n",
    "    if flag:\n",
    "        return False\n",
    "    else:\n",
    "        return True"
   ]
  },
  {
   "cell_type": "code",
   "execution_count": 102,
   "metadata": {},
   "outputs": [
    {
     "name": "stdout",
     "output_type": "stream",
     "text": [
      "[4, 6, 24]\n"
     ]
    },
    {
     "ename": "TypeError",
     "evalue": "unhashable type: 'list'",
     "output_type": "error",
     "traceback": [
      "\u001b[1;31m---------------------------------------------------------------------------\u001b[0m",
      "\u001b[1;31mTypeError\u001b[0m                                 Traceback (most recent call last)",
      "\u001b[1;32m<ipython-input-102-d7b9b8bef8d2>\u001b[0m in \u001b[0;36m<module>\u001b[1;34m\u001b[0m\n\u001b[0;32m     22\u001b[0m         \u001b[0mppf\u001b[0m\u001b[1;33m.\u001b[0m\u001b[0mappend\u001b[0m\u001b[1;33m(\u001b[0m\u001b[0mprimeFactors\u001b[0m\u001b[1;33m(\u001b[0m\u001b[0mitem\u001b[0m\u001b[1;33m)\u001b[0m\u001b[1;33m)\u001b[0m\u001b[1;33m\u001b[0m\u001b[1;33m\u001b[0m\u001b[0m\n\u001b[0;32m     23\u001b[0m         \u001b[0mpf\u001b[0m \u001b[1;33m=\u001b[0m \u001b[0mpf\u001b[0m\u001b[1;33m+\u001b[0m\u001b[0mppf\u001b[0m\u001b[1;33m\u001b[0m\u001b[1;33m\u001b[0m\u001b[0m\n\u001b[1;32m---> 24\u001b[1;33m     \u001b[0mprint\u001b[0m\u001b[1;33m(\u001b[0m\u001b[0mlist\u001b[0m\u001b[1;33m(\u001b[0m\u001b[0mset\u001b[0m\u001b[1;33m(\u001b[0m\u001b[0mpf\u001b[0m\u001b[1;33m)\u001b[0m\u001b[1;33m)\u001b[0m\u001b[1;33m)\u001b[0m\u001b[1;33m\u001b[0m\u001b[1;33m\u001b[0m\u001b[0m\n\u001b[0m\u001b[0;32m     25\u001b[0m     '''\n\u001b[0;32m     26\u001b[0m     \u001b[1;32mfor\u001b[0m \u001b[0mj\u001b[0m \u001b[1;32min\u001b[0m \u001b[0mrange\u001b[0m\u001b[1;33m(\u001b[0m\u001b[0mlen\u001b[0m\u001b[1;33m(\u001b[0m\u001b[0melements_of_test_case\u001b[0m\u001b[1;33m[\u001b[0m\u001b[0mi\u001b[0m\u001b[1;33m]\u001b[0m\u001b[1;33m)\u001b[0m\u001b[1;33m)\u001b[0m\u001b[1;33m:\u001b[0m\u001b[1;33m\u001b[0m\u001b[1;33m\u001b[0m\u001b[0m\n",
      "\u001b[1;31mTypeError\u001b[0m: unhashable type: 'list'"
     ]
    }
   ],
   "source": [
    "import itertools\n",
    "for i in range(n):\n",
    "    list_of_factors=[]\n",
    "    f=[]\n",
    "    fl=[]\n",
    "    def multi(lst):\n",
    "        res = list(lst) # Copy the list\n",
    "        # Iterate through the indexes instead of the elements\n",
    "        for i in range(len(res)):\n",
    "            if i % 2 == 0:\n",
    "                res[i] = res[i]*2 \n",
    "        return res\n",
    "\n",
    "    mul=multi(elements_of_test_case[i])\n",
    "    print(mul)\n",
    "    pf=[]\n",
    "    ppf=[]\n",
    "    for item in mul:\n",
    "        ppf.append(primeFactors(item))\n",
    "        pf = pf+ppf\n",
    "    for item in elements_of_test_case[i]:\n",
    "        ppf.append(primeFactors(item))\n",
    "        pf = pf+ppf\n",
    "    print(list(set(pf)))\n",
    "    '''\n",
    "    for j in range(len(elements_of_test_case[i])):\n",
    "        \n",
    "        s = primeFactors(elements_of_test_case[i][j])\n",
    "        for item in s:  \n",
    "            list_of_factors.append(item)\n",
    "    \n",
    "    list_of_factors=list(set((list_of_factors)))         \n",
    "    #print(list_of_factors)\n",
    "\n",
    "    stuff = list_of_factors\n",
    "    for L in range(0, len(stuff)+1):\n",
    "        for subset in itertools.combinations(stuff, L):\n",
    "            f.append(list(subset))\n",
    "            #print(subset)\n",
    "            #print(f)\n",
    "            \n",
    "    #print(f)\n",
    "    for item in f:\n",
    "        if len(item)!=0 :\n",
    "            if len(item)!=1:\n",
    "                fl.append(item)\n",
    "                \n",
    "    for j in range(len(elements_of_test_case[i])): \n",
    "        if prime_number(elements_of_test_case[i][j])==True:\n",
    "            fl.append(elements_of_test_case[i][j])\n",
    "            \n",
    "    print(fl)\n",
    "    '''\n",
    "            "
   ]
  },
  {
   "cell_type": "code",
   "execution_count": 28,
   "metadata": {},
   "outputs": [],
   "source": [
    "s1=\"eb\"\n",
    "s2=\"cc\"\n",
    "s3=\"abc\"\n",
    "s4=\"aca\""
   ]
  },
  {
   "cell_type": "code",
   "execution_count": 18,
   "metadata": {},
   "outputs": [
    {
     "name": "stdout",
     "output_type": "stream",
     "text": [
      "['e', 'b'] ['c', 'c']\n",
      "[101, 98] [99, 99]\n"
     ]
    }
   ],
   "source": [
    "class solution:\n",
    "    def solve(self,A,B):\n",
    "        #print(A,B)\n",
    "        a_list = list(A)\n",
    "        b_list= list(B)\n",
    "        print(a_list,b_list)\n",
    "        #print(ord(\"\"))\n",
    "        if A==B:\n",
    "            print(1)\n",
    "        else:\n",
    "            index=[]\n",
    "            for i in range(len(a_list)):\n",
    "                if a_list[i]!=b_list[i]:\n",
    "                    index.append(i)\n",
    "            #print(index)\n",
    "            \n",
    "        if len(index)==1:\n",
    "            print(0)\n",
    "            \n",
    "        else:\n",
    "            a_list_score=[]\n",
    "            b_list_score=[]\n",
    "            for i in range(len(index)):\n",
    "                a_list_score.append(ord(a_list[index[i]]))\n",
    "                b_list_score.append(ord(b_list[index[i]]))\n",
    "                \n",
    "        print(a_list_score,b_list_score)\n",
    "        \n",
    "news = solution()\n",
    "news.solve(s1,s2)"
   ]
  },
  {
   "cell_type": "code",
   "execution_count": 46,
   "metadata": {},
   "outputs": [
    {
     "name": "stdout",
     "output_type": "stream",
     "text": [
      "0\n"
     ]
    }
   ],
   "source": [
    "class solution:\n",
    "    def solve(self,A,B):\n",
    "        a_list = list(A)\n",
    "        b_list= list(B)\n",
    "        string1=A\n",
    "        string2=B\n",
    "        if A==B:\n",
    "            print(1)\n",
    "        else:\n",
    "            index=[]\n",
    "            for i in range(len(a_list)):\n",
    "                if a_list[i]!=b_list[i]:\n",
    "                    index.append(i)\n",
    "         \n",
    "        duplicates1 = []\n",
    "        for char in string1:\n",
    "            if string1.count(char) > 1:\n",
    "                if char not in duplicates1:\n",
    "                    duplicates1.append(char)\n",
    "        \n",
    "        duplicates2 = []\n",
    "        for char in string2:\n",
    "            if string2.count(char) > 1:\n",
    "                if char not in duplicates2:\n",
    "                    duplicates2.append(char)\n",
    "        \n",
    "        if duplicates2:\n",
    "            for i in range(len(index)):\n",
    "                #print(a_list[index[i]])\n",
    "                string1 = string1.replace(b_list[index[i]],a_list[index[i]])\n",
    "                #print(string2)\n",
    "                \n",
    "        else:\n",
    "            for i in range(len(index)):\n",
    "                #print(a_list[index[i]])\n",
    "                string2 = string2.replace(b_list[index[i]],a_list[index[i]])\n",
    "                \n",
    "        if string1==string2:\n",
    "            print(1)\n",
    "        else:\n",
    "            print(0)\n",
    "            \n",
    "\n",
    "news = solution()\n",
    "news.solve(s1,s2)"
   ]
  }
 ],
 "metadata": {
  "kernelspec": {
   "display_name": "Python 3",
   "language": "python",
   "name": "python3"
  },
  "language_info": {
   "codemirror_mode": {
    "name": "ipython",
    "version": 3
   },
   "file_extension": ".py",
   "mimetype": "text/x-python",
   "name": "python",
   "nbconvert_exporter": "python",
   "pygments_lexer": "ipython3",
   "version": "3.8.5"
  }
 },
 "nbformat": 4,
 "nbformat_minor": 4
}
