{
 "cells": [
  {
   "cell_type": "markdown",
   "metadata": {},
   "source": [
    "# Predicting NIFTY 50 USING LSTM MODEL"
   ]
  },
  {
   "cell_type": "markdown",
   "metadata": {},
   "source": [
    "## The Nifty is the flagship benchmark of the National Stock Exchange (NSE), which is a well-diversified index, comprising top 50 companies in terms of free-float market capitalisation that are traded on the bourse. It is supposed to reflect the health of the listed universe of Indian companies, and hence the broader economy, in all market conditions"
   ]
  },
  {
   "cell_type": "code",
   "execution_count": 1,
   "metadata": {},
   "outputs": [],
   "source": [
    "import math\n",
    "import pandas as pd\n",
    "import numpy as np\n",
    "from sklearn.preprocessing import MinMaxScaler\n",
    "from tensorflow.keras.models import Sequential\n",
    "from tensorflow.keras.layers import Dense,Dropout,LSTM\n",
    "import matplotlib.pyplot as plt\n",
    "plt.style.use('fivethirtyeight')"
   ]
  },
  {
   "cell_type": "code",
   "execution_count": 2,
   "metadata": {},
   "outputs": [
    {
     "name": "stdout",
     "output_type": "stream",
     "text": [
      "Collecting nsepy"
     ]
    },
    {
     "name": "stderr",
     "output_type": "stream",
     "text": [
      "WARNING: You are using pip version 21.0.1; however, version 21.2.4 is available.\n",
      "You should consider upgrading via the 'c:\\users\\himanshuu\\anaconda3\\python.exe -m pip install --upgrade pip' command.\n"
     ]
    },
    {
     "name": "stdout",
     "output_type": "stream",
     "text": [
      "\n",
      "  Downloading nsepy-0.8.tar.gz (33 kB)\n",
      "Requirement already satisfied: beautifulsoup4 in c:\\users\\himanshuu\\anaconda3\\lib\\site-packages (from nsepy) (4.9.3)\n",
      "Requirement already satisfied: requests in c:\\users\\himanshuu\\anaconda3\\lib\\site-packages (from nsepy) (2.24.0)\n",
      "Requirement already satisfied: numpy in c:\\users\\himanshuu\\anaconda3\\lib\\site-packages (from nsepy) (1.19.2)\n",
      "Requirement already satisfied: pandas in c:\\users\\himanshuu\\anaconda3\\lib\\site-packages (from nsepy) (1.1.3)\n",
      "Requirement already satisfied: six in c:\\users\\himanshuu\\anaconda3\\lib\\site-packages (from nsepy) (1.15.0)\n",
      "Requirement already satisfied: click in c:\\users\\himanshuu\\anaconda3\\lib\\site-packages (from nsepy) (7.1.2)\n",
      "Requirement already satisfied: lxml in c:\\users\\himanshuu\\anaconda3\\lib\\site-packages (from nsepy) (4.6.1)\n",
      "Requirement already satisfied: soupsieve>1.2 in c:\\users\\himanshuu\\anaconda3\\lib\\site-packages (from beautifulsoup4->nsepy) (2.0.1)\n",
      "Requirement already satisfied: python-dateutil>=2.7.3 in c:\\users\\himanshuu\\anaconda3\\lib\\site-packages (from pandas->nsepy) (2.8.1)\n",
      "Requirement already satisfied: pytz>=2017.2 in c:\\users\\himanshuu\\anaconda3\\lib\\site-packages (from pandas->nsepy) (2020.1)\n",
      "Requirement already satisfied: urllib3!=1.25.0,!=1.25.1,<1.26,>=1.21.1 in c:\\users\\himanshuu\\anaconda3\\lib\\site-packages (from requests->nsepy) (1.25.11)\n",
      "Requirement already satisfied: certifi>=2017.4.17 in c:\\users\\himanshuu\\anaconda3\\lib\\site-packages (from requests->nsepy) (2020.6.20)\n",
      "Requirement already satisfied: chardet<4,>=3.0.2 in c:\\users\\himanshuu\\anaconda3\\lib\\site-packages (from requests->nsepy) (3.0.4)\n",
      "Requirement already satisfied: idna<3,>=2.5 in c:\\users\\himanshuu\\anaconda3\\lib\\site-packages (from requests->nsepy) (2.10)\n",
      "Building wheels for collected packages: nsepy\n",
      "  Building wheel for nsepy (setup.py): started\n",
      "  Building wheel for nsepy (setup.py): finished with status 'done'\n",
      "  Created wheel for nsepy: filename=nsepy-0.8-py3-none-any.whl size=36088 sha256=4fd3f72f4ca2d711ab4e01296bf34c16fb7a8112e1f656b154cac61e5f7099cb\n",
      "  Stored in directory: c:\\users\\himanshuu\\appdata\\local\\pip\\cache\\wheels\\b9\\2c\\cb\\d74199e422a1dbc20297d10cfff9c54d03e0b5c6694d49ccdd\n",
      "Successfully built nsepy\n",
      "Installing collected packages: nsepy\n",
      "Successfully installed nsepy-0.8\n"
     ]
    }
   ],
   "source": [
    "!pip install nsepy"
   ]
  },
  {
   "cell_type": "code",
   "execution_count": 3,
   "metadata": {},
   "outputs": [],
   "source": [
    "from nsepy import get_history\n",
    "from datetime import date\n",
    "data=get_history(symbol=\"NIFTY\",start=date(2016,9,15),end=date(2021,9,17),index=True)"
   ]
  },
  {
   "cell_type": "code",
   "execution_count": 5,
   "metadata": {},
   "outputs": [
    {
     "data": {
      "text/html": [
       "<div>\n",
       "<style scoped>\n",
       "    .dataframe tbody tr th:only-of-type {\n",
       "        vertical-align: middle;\n",
       "    }\n",
       "\n",
       "    .dataframe tbody tr th {\n",
       "        vertical-align: top;\n",
       "    }\n",
       "\n",
       "    .dataframe thead th {\n",
       "        text-align: right;\n",
       "    }\n",
       "</style>\n",
       "<table border=\"1\" class=\"dataframe\">\n",
       "  <thead>\n",
       "    <tr style=\"text-align: right;\">\n",
       "      <th></th>\n",
       "      <th>Open</th>\n",
       "      <th>High</th>\n",
       "      <th>Low</th>\n",
       "      <th>Close</th>\n",
       "      <th>Volume</th>\n",
       "      <th>Turnover</th>\n",
       "    </tr>\n",
       "    <tr>\n",
       "      <th>Date</th>\n",
       "      <th></th>\n",
       "      <th></th>\n",
       "      <th></th>\n",
       "      <th></th>\n",
       "      <th></th>\n",
       "      <th></th>\n",
       "    </tr>\n",
       "  </thead>\n",
       "  <tbody>\n",
       "    <tr>\n",
       "      <th>2016-09-15</th>\n",
       "      <td>8743.85</td>\n",
       "      <td>8751.95</td>\n",
       "      <td>8704.35</td>\n",
       "      <td>8742.55</td>\n",
       "      <td>149889703</td>\n",
       "      <td>7.347340e+10</td>\n",
       "    </tr>\n",
       "    <tr>\n",
       "      <th>2016-09-16</th>\n",
       "      <td>8780.85</td>\n",
       "      <td>8847.65</td>\n",
       "      <td>8750.50</td>\n",
       "      <td>8779.85</td>\n",
       "      <td>274039556</td>\n",
       "      <td>1.443063e+11</td>\n",
       "    </tr>\n",
       "    <tr>\n",
       "      <th>2016-09-19</th>\n",
       "      <td>8788.45</td>\n",
       "      <td>8824.30</td>\n",
       "      <td>8774.20</td>\n",
       "      <td>8808.40</td>\n",
       "      <td>135814177</td>\n",
       "      <td>7.364640e+10</td>\n",
       "    </tr>\n",
       "    <tr>\n",
       "      <th>2016-09-20</th>\n",
       "      <td>8816.10</td>\n",
       "      <td>8816.45</td>\n",
       "      <td>8759.30</td>\n",
       "      <td>8775.90</td>\n",
       "      <td>140718486</td>\n",
       "      <td>7.035070e+10</td>\n",
       "    </tr>\n",
       "    <tr>\n",
       "      <th>2016-09-21</th>\n",
       "      <td>8790.30</td>\n",
       "      <td>8826.85</td>\n",
       "      <td>8757.30</td>\n",
       "      <td>8777.15</td>\n",
       "      <td>153441330</td>\n",
       "      <td>7.572410e+10</td>\n",
       "    </tr>\n",
       "  </tbody>\n",
       "</table>\n",
       "</div>"
      ],
      "text/plain": [
       "               Open     High      Low    Close     Volume      Turnover\n",
       "Date                                                                   \n",
       "2016-09-15  8743.85  8751.95  8704.35  8742.55  149889703  7.347340e+10\n",
       "2016-09-16  8780.85  8847.65  8750.50  8779.85  274039556  1.443063e+11\n",
       "2016-09-19  8788.45  8824.30  8774.20  8808.40  135814177  7.364640e+10\n",
       "2016-09-20  8816.10  8816.45  8759.30  8775.90  140718486  7.035070e+10\n",
       "2016-09-21  8790.30  8826.85  8757.30  8777.15  153441330  7.572410e+10"
      ]
     },
     "execution_count": 5,
     "metadata": {},
     "output_type": "execute_result"
    }
   ],
   "source": [
    "data.head()"
   ]
  },
  {
   "cell_type": "code",
   "execution_count": 6,
   "metadata": {},
   "outputs": [
    {
     "data": {
      "text/plain": [
       "(1241, 6)"
      ]
     },
     "execution_count": 6,
     "metadata": {},
     "output_type": "execute_result"
    }
   ],
   "source": [
    "data.shape"
   ]
  },
  {
   "cell_type": "code",
   "execution_count": 7,
   "metadata": {},
   "outputs": [
    {
     "data": {
      "image/png": "[encoded data removed]",
      "text/plain": [
       "<Figure size 1152x576 with 1 Axes>"
      ]
     },
     "metadata": {},
     "output_type": "display_data"
    }
   ],
   "source": [
    "plt.figure(figsize=(16,8))\n",
    "plt.title('Close price history')\n",
    "plt.plot(data[\"Close\"])\n",
    "plt.xlabel('Date',fontsize=18)\n",
    "plt.ylabel('Close price of Nifty',fontsize=18)\n",
    "plt.show()"
   ]
  },
  {
   "cell_type": "code",
   "execution_count": 8,
   "metadata": {},
   "outputs": [],
   "source": [
    "close=data.filter([\"Close\"])"
   ]
  },
  {
   "cell_type": "code",
   "execution_count": 10,
   "metadata": {},
   "outputs": [],
   "source": [
    "dataset=close.values"
   ]
  },
  {
   "cell_type": "code",
   "execution_count": 11,
   "metadata": {},
   "outputs": [
    {
     "name": "stdout",
     "output_type": "stream",
     "text": [
      "[[ 8742.55]\n",
      " [ 8779.85]\n",
      " [ 8808.4 ]\n",
      " ...\n",
      " [17519.45]\n",
      " [17629.5 ]\n",
      " [17585.15]]\n"
     ]
    }
   ],
   "source": [
    "print(dataset)"
   ]
  },
  {
   "cell_type": "code",
   "execution_count": 12,
   "metadata": {},
   "outputs": [
    {
     "data": {
      "text/plain": [
       "993"
      ]
     },
     "execution_count": 12,
     "metadata": {},
     "output_type": "execute_result"
    }
   ],
   "source": [
    "training_data_len=math.ceil(len(dataset)*0.8)\n",
    "training_data_len"
   ]
  },
  {
   "cell_type": "code",
   "execution_count": 13,
   "metadata": {},
   "outputs": [],
   "source": [
    "scaler=MinMaxScaler(feature_range=(0,1))\n",
    "scaled_data=scaler.fit_transform(dataset)"
   ]
  },
  {
   "cell_type": "code",
   "execution_count": 14,
   "metadata": {},
   "outputs": [
    {
     "name": "stdout",
     "output_type": "stream",
     "text": [
      "[array([0.11301245, 0.11673528, 0.1195848 , 0.11634104, 0.1164658 ,\n",
      "       0.12547845, 0.12189535, 0.1110662 , 0.1094044 , 0.11327195,\n",
      "       0.09791152, 0.0998977 , 0.11256831, 0.11566734, 0.11315218,\n",
      "       0.10971879, 0.10852609, 0.10964394, 0.09612496, 0.09712803,\n",
      "       0.09084013, 0.10655987, 0.10468348, 0.10870574, 0.10807196,\n",
      "       0.10965891, 0.1078973 , 0.10030691, 0.10030691, 0.10257754,\n",
      "       0.1013499 , 0.1014048 , 0.09020136, 0.08730194, 0.08219178,\n",
      "       0.08850962, 0.09315068, 0.08201712, 0.0913741 , 0.06847319,\n",
      "       0.04972428, 0.05003868, 0.04687976, 0.04629588, 0.03182374,\n",
      "       0.03912968, 0.04222372, 0.03545675, 0.05030816, 0.05156574,\n",
      "       0.05308781, 0.06130698, 0.05815306, 0.04756344, 0.05175038,\n",
      "       0.05318761, 0.04908551, 0.06353769, 0.06502483, 0.0559473 ])]\n",
      "[0.0610375028070963]\n",
      "\n",
      "[array([0.11301245, 0.11673528, 0.1195848 , 0.11634104, 0.1164658 ,\n",
      "       0.12547845, 0.12189535, 0.1110662 , 0.1094044 , 0.11327195,\n",
      "       0.09791152, 0.0998977 , 0.11256831, 0.11566734, 0.11315218,\n",
      "       0.10971879, 0.10852609, 0.10964394, 0.09612496, 0.09712803,\n",
      "       0.09084013, 0.10655987, 0.10468348, 0.10870574, 0.10807196,\n",
      "       0.10965891, 0.1078973 , 0.10030691, 0.10030691, 0.10257754,\n",
      "       0.1013499 , 0.1014048 , 0.09020136, 0.08730194, 0.08219178,\n",
      "       0.08850962, 0.09315068, 0.08201712, 0.0913741 , 0.06847319,\n",
      "       0.04972428, 0.05003868, 0.04687976, 0.04629588, 0.03182374,\n",
      "       0.03912968, 0.04222372, 0.03545675, 0.05030816, 0.05156574,\n",
      "       0.05308781, 0.06130698, 0.05815306, 0.04756344, 0.05175038,\n",
      "       0.05318761, 0.04908551, 0.06353769, 0.06502483, 0.0559473 ]), array([0.11673528, 0.1195848 , 0.11634104, 0.1164658 , 0.12547845,\n",
      "       0.12189535, 0.1110662 , 0.1094044 , 0.11327195, 0.09791152,\n",
      "       0.0998977 , 0.11256831, 0.11566734, 0.11315218, 0.10971879,\n",
      "       0.10852609, 0.10964394, 0.09612496, 0.09712803, 0.09084013,\n",
      "       0.10655987, 0.10468348, 0.10870574, 0.10807196, 0.10965891,\n",
      "       0.1078973 , 0.10030691, 0.10030691, 0.10257754, 0.1013499 ,\n",
      "       0.1014048 , 0.09020136, 0.08730194, 0.08219178, 0.08850962,\n",
      "       0.09315068, 0.08201712, 0.0913741 , 0.06847319, 0.04972428,\n",
      "       0.05003868, 0.04687976, 0.04629588, 0.03182374, 0.03912968,\n",
      "       0.04222372, 0.03545675, 0.05030816, 0.05156574, 0.05308781,\n",
      "       0.06130698, 0.05815306, 0.04756344, 0.05175038, 0.05318761,\n",
      "       0.04908551, 0.06353769, 0.06502483, 0.0559473 , 0.0610375 ])]\n",
      "[0.0610375028070963, 0.05711006312847766]\n",
      "\n"
     ]
    }
   ],
   "source": [
    "train_data=scaled_data[0:training_data_len,:]\n",
    "x_train=[]\n",
    "y_train=[]\n",
    "for i in range(60,len(train_data)):\n",
    "    x_train.append(train_data[i-60:i,0])\n",
    "    y_train.append(train_data[i,0])\n",
    "    if i<=61:\n",
    "        print(x_train)\n",
    "        print(y_train)\n",
    "        print()"
   ]
  },
  {
   "cell_type": "code",
   "execution_count": 15,
   "metadata": {},
   "outputs": [],
   "source": [
    "x_train,y_train=np.array(x_train),np.array(y_train)\n",
    "x_train=np.reshape(x_train,(x_train.shape[0],x_train.shape[1],1))"
   ]
  },
  {
   "cell_type": "code",
   "execution_count": 17,
   "metadata": {},
   "outputs": [
    {
     "data": {
      "text/plain": [
       "(933, 60, 1)"
      ]
     },
     "execution_count": 17,
     "metadata": {},
     "output_type": "execute_result"
    }
   ],
   "source": [
    "x_train.shape"
   ]
  },
  {
   "cell_type": "code",
   "execution_count": 18,
   "metadata": {},
   "outputs": [
    {
     "data": {
      "text/plain": [
       "array([[[0.11301245],\n",
       "        [0.11673528],\n",
       "        [0.1195848 ],\n",
       "        ...,\n",
       "        [0.06353769],\n",
       "        [0.06502483],\n",
       "        [0.0559473 ]],\n",
       "\n",
       "       [[0.11673528],\n",
       "        [0.1195848 ],\n",
       "        [0.11634104],\n",
       "        ...,\n",
       "        [0.06502483],\n",
       "        [0.0559473 ],\n",
       "        [0.0610375 ]],\n",
       "\n",
       "       [[0.1195848 ],\n",
       "        [0.11634104],\n",
       "        [0.1164658 ],\n",
       "        ...,\n",
       "        [0.0559473 ],\n",
       "        [0.0610375 ],\n",
       "        [0.05711006]],\n",
       "\n",
       "       ...,\n",
       "\n",
       "       [[0.28552536],\n",
       "        [0.2689872 ],\n",
       "        [0.26735035],\n",
       "        ...,\n",
       "        [0.38316241],\n",
       "        [0.38467949],\n",
       "        [0.38224418]],\n",
       "\n",
       "       [[0.2689872 ],\n",
       "        [0.26735035],\n",
       "        [0.27674227],\n",
       "        ...,\n",
       "        [0.38467949],\n",
       "        [0.38224418],\n",
       "        [0.39040347]],\n",
       "\n",
       "       [[0.26735035],\n",
       "        [0.27674227],\n",
       "        [0.26969584],\n",
       "        ...,\n",
       "        [0.38224418],\n",
       "        [0.39040347],\n",
       "        [0.39866257]]])"
      ]
     },
     "execution_count": 18,
     "metadata": {},
     "output_type": "execute_result"
    }
   ],
   "source": [
    "x_train"
   ]
  },
  {
   "cell_type": "code",
   "execution_count": 19,
   "metadata": {},
   "outputs": [],
   "source": [
    "model=Sequential()\n",
    "model.add(LSTM(50,return_sequences=True,input_shape=(x_train.shape[1],1)))\n",
    "model.add(LSTM(50,return_sequences=False))\n",
    "model.add(Dense(25))\n",
    "model.add(Dense(1))"
   ]
  },
  {
   "cell_type": "code",
   "execution_count": 20,
   "metadata": {},
   "outputs": [],
   "source": [
    "model.compile(optimizer=\"adam\",loss=\"mean_squared_error\")"
   ]
  },
  {
   "cell_type": "code",
   "execution_count": 21,
   "metadata": {},
   "outputs": [
    {
     "name": "stdout",
     "output_type": "stream",
     "text": [
      "933/933 [==============================] - 15s 13ms/step - loss: 0.0030\n"
     ]
    },
    {
     "data": {
      "text/plain": [
       "<tensorflow.python.keras.callbacks.History at 0x24851ddfe20>"
      ]
     },
     "execution_count": 21,
     "metadata": {},
     "output_type": "execute_result"
    }
   ],
   "source": [
    "model.fit(x_train,y_train,batch_size=1,epochs=1)"
   ]
  },
  {
   "cell_type": "code",
   "execution_count": 22,
   "metadata": {},
   "outputs": [],
   "source": [
    "test_data=scaled_data[training_data_len-60:,:]"
   ]
  },
  {
   "cell_type": "code",
   "execution_count": 37,
   "metadata": {},
   "outputs": [],
   "source": [
    "test_data=scaled_data[training_data_len-60:,:]\n",
    "#create the data sets x_test,y_test\n",
    "x_test=[]\n",
    "y_test=dataset[training_data_len:,:]\n",
    "for i in range(60,len(test_data)):\n",
    "    x_test.append(test_data[i-60:i,0])\n",
    "    "
   ]
  },
  {
   "cell_type": "code",
   "execution_count": 38,
   "metadata": {},
   "outputs": [],
   "source": [
    "x_test=np.array(x_test)"
   ]
  },
  {
   "cell_type": "code",
   "execution_count": 39,
   "metadata": {},
   "outputs": [],
   "source": [
    "x_test=np.reshape(x_test,(x_test.shape[0],x_test.shape[1],1))"
   ]
  },
  {
   "cell_type": "code",
   "execution_count": 40,
   "metadata": {},
   "outputs": [],
   "source": [
    "predictions=model.predict(x_test)\n",
    "predictions=scaler.inverse_transform(predictions)"
   ]
  },
  {
   "cell_type": "code",
   "execution_count": 41,
   "metadata": {},
   "outputs": [
    {
     "name": "stdout",
     "output_type": "stream",
     "text": [
      "Accuracy:-0.9435357114171068\n"
     ]
    },
    {
     "data": {
      "text/plain": [
       "243.09760427167336"
      ]
     },
     "execution_count": 41,
     "metadata": {},
     "output_type": "execute_result"
    }
   ],
   "source": [
    "from sklearn.metrics import r2_score\n",
    "print(f\"Accuracy:-{r2_score(predictions,y_test)}\")\n",
    "rmse=np.sqrt(np.mean(predictions-y_test)**2)\n",
    "rmse"
   ]
  },
  {
   "cell_type": "code",
   "execution_count": 42,
   "metadata": {},
   "outputs": [],
   "source": [
    "#Plot the data\n",
    "train=data[:training_data_len]\n",
    "valid=data[training_data_len:]"
   ]
  },
  {
   "cell_type": "code",
   "execution_count": 43,
   "metadata": {},
   "outputs": [
    {
     "name": "stdout",
     "output_type": "stream",
     "text": [
      "                Open      High       Low     Close     Volume      Turnover\n",
      "Date                                                                       \n",
      "2020-09-18  11584.10  11584.10  11446.10  11504.95  764154094  4.869868e+11\n",
      "2020-09-21  11503.80  11535.25  11218.50  11250.55  602851737  3.721323e+11\n",
      "2020-09-22  11301.75  11302.20  11084.65  11153.65  672249921  3.629649e+11\n",
      "2020-09-23  11258.75  11259.55  11024.40  11131.85  714925847  3.554298e+11\n",
      "2020-09-24  11011.00  11015.30  10790.20  10805.55  706139506  3.362371e+11\n",
      "...              ...       ...       ...       ...        ...           ...\n",
      "2021-09-13  17363.55  17378.35  17269.15  17355.30  241053924  1.849863e+11\n",
      "2021-09-14  17420.35  17438.55  17367.05  17380.00  230354386  1.870282e+11\n",
      "2021-09-15  17387.65  17532.70  17386.90  17519.45  388191629  2.425680e+11\n",
      "2021-09-16  17539.20  17644.60  17510.45  17629.50  503310763  3.018977e+11\n",
      "2021-09-17  17709.65  17792.95  17537.65  17585.15  508285916  4.334558e+11\n",
      "\n",
      "[248 rows x 6 columns]\n"
     ]
    }
   ],
   "source": [
    "print(valid)"
   ]
  },
  {
   "cell_type": "code",
   "execution_count": 44,
   "metadata": {},
   "outputs": [
    {
     "name": "stdout",
     "output_type": "stream",
     "text": [
      "248\n",
      "248\n"
     ]
    },
    {
     "name": "stderr",
     "output_type": "stream",
     "text": [
      "<ipython-input-44-16e0f5464fdd>:3: SettingWithCopyWarning: \n",
      "A value is trying to be set on a copy of a slice from a DataFrame.\n",
      "Try using .loc[row_indexer,col_indexer] = value instead\n",
      "\n",
      "See the caveats in the documentation: https://pandas.pydata.org/pandas-docs/stable/user_guide/indexing.html#returning-a-view-versus-a-copy\n",
      "  valid[\"Predictions\"]=predictions\n"
     ]
    }
   ],
   "source": [
    "print(len(x_test))\n",
    "print(len(predictions))\n",
    "valid[\"Predictions\"]=predictions"
   ]
  },
  {
   "cell_type": "code",
   "execution_count": 48,
   "metadata": {},
   "outputs": [
    {
     "name": "stdout",
     "output_type": "stream",
     "text": [
      "[[11522.427 ]\n",
      " [11542.247 ]\n",
      " [11523.483 ]\n",
      " [11474.5625]\n",
      " [11412.518 ]\n",
      " [11311.018 ]\n",
      " [11231.143 ]\n",
      " [11193.993 ]\n",
      " [11184.311 ]\n",
      " [11194.569 ]\n",
      " [11235.636 ]\n",
      " [11299.191 ]\n",
      " [11387.012 ]\n",
      " [11486.612 ]\n",
      " [11592.11  ]\n",
      " [11697.263 ]\n",
      " [11790.697 ]\n",
      " [11865.939 ]\n",
      " [11925.685 ]\n",
      " [11932.217 ]\n",
      " [11919.14  ]\n",
      " [11909.583 ]\n",
      " [11905.175 ]\n",
      " [11908.821 ]\n",
      " [11910.902 ]\n",
      " [11916.091 ]\n",
      " [11901.77  ]\n",
      " [11894.241 ]\n",
      " [11870.94  ]\n",
      " [11835.202 ]\n",
      " [11793.805 ]\n",
      " [11758.017 ]\n",
      " [11747.87  ]\n",
      " [11764.798 ]\n",
      " [11821.105 ]\n",
      " [11909.799 ]\n",
      " [12030.069 ]\n",
      " [12173.812 ]\n",
      " [12326.965 ]\n",
      " [12457.987 ]\n",
      " [12563.779 ]\n",
      " [12649.142 ]\n",
      " [12723.371 ]\n",
      " [12788.977 ]\n",
      " [12818.83  ]\n",
      " [12836.375 ]\n",
      " [12852.271 ]\n",
      " [12880.8545]\n",
      " [12886.169 ]\n",
      " [12895.219 ]\n",
      " [12901.776 ]\n",
      " [12924.174 ]\n",
      " [12952.222 ]\n",
      " [12982.404 ]\n",
      " [13026.011 ]\n",
      " [13083.473 ]\n",
      " [13145.625 ]\n",
      " [13220.031 ]\n",
      " [13284.184 ]\n",
      " [13339.276 ]\n",
      " [13387.639 ]\n",
      " [13426.773 ]\n",
      " [13470.51  ]\n",
      " [13517.757 ]\n",
      " [13562.809 ]\n",
      " [13543.323 ]\n",
      " [13511.286 ]\n",
      " [13492.835 ]\n",
      " [13502.73  ]\n",
      " [13542.423 ]\n",
      " [13600.625 ]\n",
      " [13667.821 ]\n",
      " [13731.011 ]\n",
      " [13788.665 ]\n",
      " [13850.657 ]\n",
      " [13914.932 ]\n",
      " [13964.308 ]\n",
      " [13997.881 ]\n",
      " [14046.11  ]\n",
      " [14112.7295]\n",
      " [14190.121 ]\n",
      " [14262.649 ]\n",
      " [14326.751 ]\n",
      " [14355.224 ]\n",
      " [14340.408 ]\n",
      " [14336.551 ]\n",
      " [14353.544 ]\n",
      " [14371.218 ]\n",
      " [14357.601 ]\n",
      " [14312.002 ]\n",
      " [14219.007 ]\n",
      " [14093.903 ]\n",
      " [13944.115 ]\n",
      " [13887.975 ]\n",
      " [13935.789 ]\n",
      " [14052.489 ]\n",
      " [14206.459 ]\n",
      " [14364.906 ]\n",
      " [14531.453 ]\n",
      " [14678.431 ]\n",
      " [14794.736 ]\n",
      " [14887.339 ]\n",
      " [14951.819 ]\n",
      " [15012.072 ]\n",
      " [15059.411 ]\n",
      " [15077.858 ]\n",
      " [15065.336 ]\n",
      " [15018.255 ]\n",
      " [14916.678 ]\n",
      " [14804.811 ]\n",
      " [14738.624 ]\n",
      " [14719.689 ]\n",
      " [14651.137 ]\n",
      " [14601.127 ]\n",
      " [14587.824 ]\n",
      " [14640.507 ]\n",
      " [14698.323 ]\n",
      " [14734.011 ]\n",
      " [14756.924 ]\n",
      " [14789.359 ]\n",
      " [14832.238 ]\n",
      " [14854.986 ]\n",
      " [14850.926 ]\n",
      " [14830.666 ]\n",
      " [14778.204 ]\n",
      " [14693.996 ]\n",
      " [14629.846 ]\n",
      " [14582.493 ]\n",
      " [14561.519 ]\n",
      " [14521.42  ]\n",
      " [14448.144 ]\n",
      " [14392.974 ]\n",
      " [14399.64  ]\n",
      " [14416.541 ]\n",
      " [14462.708 ]\n",
      " [14486.86  ]\n",
      " [14504.111 ]\n",
      " [14533.471 ]\n",
      " [14572.118 ]\n",
      " [14605.114 ]\n",
      " [14559.657 ]\n",
      " [14507.244 ]\n",
      " [14466.245 ]\n",
      " [14441.067 ]\n",
      " [14392.595 ]\n",
      " [14331.166 ]\n",
      " [14285.927 ]\n",
      " [14246.082 ]\n",
      " [14234.577 ]\n",
      " [14262.142 ]\n",
      " [14335.48  ]\n",
      " [14427.504 ]\n",
      " [14482.111 ]\n",
      " [14511.474 ]\n",
      " [14504.151 ]\n",
      " [14494.804 ]\n",
      " [14498.713 ]\n",
      " [14521.642 ]\n",
      " [14567.266 ]\n",
      " [14605.823 ]\n",
      " [14614.951 ]\n",
      " [14605.037 ]\n",
      " [14619.095 ]\n",
      " [14667.494 ]\n",
      " [14716.229 ]\n",
      " [14742.291 ]\n",
      " [14789.996 ]\n",
      " [14843.919 ]\n",
      " [14895.258 ]\n",
      " [14950.778 ]\n",
      " [15005.146 ]\n",
      " [15064.478 ]\n",
      " [15137.737 ]\n",
      " [15206.177 ]\n",
      " [15262.68  ]\n",
      " [15320.34  ]\n",
      " [15366.566 ]\n",
      " [15411.236 ]\n",
      " [15446.122 ]\n",
      " [15455.926 ]\n",
      " [15465.2   ]\n",
      " [15479.9795]\n",
      " [15496.551 ]\n",
      " [15519.429 ]\n",
      " [15527.739 ]\n",
      " [15517.055 ]\n",
      " [15496.696 ]\n",
      " [15482.397 ]\n",
      " [15476.3125]\n",
      " [15463.406 ]\n",
      " [15463.755 ]\n",
      " [15480.219 ]\n",
      " [15496.559 ]\n",
      " [15502.061 ]\n",
      " [15497.865 ]\n",
      " [15483.452 ]\n",
      " [15471.65  ]\n",
      " [15478.117 ]\n",
      " [15490.592 ]\n",
      " [15513.56  ]\n",
      " [15517.624 ]\n",
      " [15506.941 ]\n",
      " [15490.269 ]\n",
      " [15489.109 ]\n",
      " [15501.308 ]\n",
      " [15528.7   ]\n",
      " [15560.095 ]\n",
      " [15565.714 ]\n",
      " [15541.227 ]\n",
      " [15531.137 ]\n",
      " [15532.789 ]\n",
      " [15535.97  ]\n",
      " [15528.976 ]\n",
      " [15512.863 ]\n",
      " [15503.795 ]\n",
      " [15497.002 ]\n",
      " [15509.572 ]\n",
      " [15564.3   ]\n",
      " [15650.698 ]\n",
      " [15746.993 ]\n",
      " [15827.64  ]\n",
      " [15892.059 ]\n",
      " [15941.385 ]\n",
      " [15975.337 ]\n",
      " [16007.166 ]\n",
      " [16055.242 ]\n",
      " [16108.284 ]\n",
      " [16163.274 ]\n",
      " [16204.333 ]\n",
      " [16215.322 ]\n",
      " [16215.358 ]\n",
      " [16226.337 ]\n",
      " [16241.403 ]\n",
      " [16256.504 ]\n",
      " [16278.886 ]\n",
      " [16333.287 ]\n",
      " [16423.994 ]\n",
      " [16512.248 ]\n",
      " [16610.188 ]\n",
      " [16710.932 ]\n",
      " [16805.941 ]\n",
      " [16881.48  ]\n",
      " [16934.27  ]\n",
      " [16968.857 ]\n",
      " [16985.613 ]\n",
      " [16993.049 ]\n",
      " [17013.186 ]\n",
      " [17050.994 ]]\n",
      "                Open      High       Low     Close     Volume      Turnover  \\\n",
      "Date                                                                          \n",
      "2020-09-18  11584.10  11584.10  11446.10  11504.95  764154094  4.869868e+11   \n",
      "2020-09-21  11503.80  11535.25  11218.50  11250.55  602851737  3.721323e+11   \n",
      "2020-09-22  11301.75  11302.20  11084.65  11153.65  672249921  3.629649e+11   \n",
      "2020-09-23  11258.75  11259.55  11024.40  11131.85  714925847  3.554298e+11   \n",
      "2020-09-24  11011.00  11015.30  10790.20  10805.55  706139506  3.362371e+11   \n",
      "...              ...       ...       ...       ...        ...           ...   \n",
      "2021-09-13  17363.55  17378.35  17269.15  17355.30  241053924  1.849863e+11   \n",
      "2021-09-14  17420.35  17438.55  17367.05  17380.00  230354386  1.870282e+11   \n",
      "2021-09-15  17387.65  17532.70  17386.90  17519.45  388191629  2.425680e+11   \n",
      "2021-09-16  17539.20  17644.60  17510.45  17629.50  503310763  3.018977e+11   \n",
      "2021-09-17  17709.65  17792.95  17537.65  17585.15  508285916  4.334558e+11   \n",
      "\n",
      "             Predictions  \n",
      "Date                      \n",
      "2020-09-18  11522.426758  \n",
      "2020-09-21  11542.247070  \n",
      "2020-09-22  11523.483398  \n",
      "2020-09-23  11474.562500  \n",
      "2020-09-24  11412.517578  \n",
      "...                  ...  \n",
      "2021-09-13  16968.857422  \n",
      "2021-09-14  16985.613281  \n",
      "2021-09-15  16993.048828  \n",
      "2021-09-16  17013.185547  \n",
      "2021-09-17  17050.994141  \n",
      "\n",
      "[248 rows x 7 columns]\n"
     ]
    }
   ],
   "source": [
    "print(predictions)\n",
    "print(valid)"
   ]
  },
  {
   "cell_type": "code",
   "execution_count": 46,
   "metadata": {},
   "outputs": [
    {
     "data": {
      "text/plain": [
       "<matplotlib.legend.Legend at 0x24851db6430>"
      ]
     },
     "execution_count": 46,
     "metadata": {},
     "output_type": "execute_result"
    },
    {
     "data": {
      "image/png": "[encoded data removed]",
      "text/plain": [
       "<Figure size 1152x576 with 1 Axes>"
      ]
     },
     "metadata": {},
     "output_type": "display_data"
    }
   ],
   "source": [
    "#Visualize the data\n",
    "plt.figure(figsize=(16,8))\n",
    "plt.title('Model')\n",
    "plt.xlabel('Date',fontsize=18)\n",
    "plt.ylabel('Close Price of Nifty',fontsize=18)\n",
    "plt.plot(train['Close'])\n",
    "plt.plot(valid[[\"Close\",\"Predictions\"]])\n",
    "plt.legend(['Train',\"Val\",\"Predictions\"],loc=\"lower right\")"
   ]
  },
  {
   "cell_type": "code",
   "execution_count": 51,
   "metadata": {},
   "outputs": [],
   "source": [
    "nifty_quote = get_history(symbol=\"NIFTY\", start=date(2016,9,15), end=date(2021,9,17),index=True)"
   ]
  },
  {
   "cell_type": "code",
   "execution_count": 52,
   "metadata": {},
   "outputs": [],
   "source": [
    "new_df=nifty_quote.filter(['Close'])"
   ]
  },
  {
   "cell_type": "code",
   "execution_count": 53,
   "metadata": {},
   "outputs": [],
   "source": [
    "last_60_days=new_df[-60:].values"
   ]
  },
  {
   "cell_type": "code",
   "execution_count": 54,
   "metadata": {},
   "outputs": [],
   "source": [
    "last_60_days_scaled=scaler.transform(last_60_days)"
   ]
  },
  {
   "cell_type": "code",
   "execution_count": 55,
   "metadata": {},
   "outputs": [],
   "source": [
    "X_test=[]\n",
    "X_test.append(last_60_days_scaled)"
   ]
  },
  {
   "cell_type": "code",
   "execution_count": 56,
   "metadata": {},
   "outputs": [],
   "source": [
    "X_test=np.array(X_test)"
   ]
  },
  {
   "cell_type": "code",
   "execution_count": 57,
   "metadata": {},
   "outputs": [
    {
     "name": "stdout",
     "output_type": "stream",
     "text": [
      "[[17085.11]]\n"
     ]
    }
   ],
   "source": [
    "#Get the predicted scaled price\n",
    "pred_price=model.predict(X_test)\n",
    "#undo the scaling\n",
    "pred_price=scaler.inverse_transform(pred_price)\n",
    "print(pred_price)"
   ]
  },
  {
   "cell_type": "code",
   "execution_count": null,
   "metadata": {},
   "outputs": [],
   "source": []
  },
  {
   "cell_type": "code",
   "execution_count": null,
   "metadata": {},
   "outputs": [],
   "source": []
  }
 ],
 "metadata": {
  "kernelspec": {
   "display_name": "Python 3",
   "language": "python",
   "name": "python3"
  },
  "language_info": {
   "codemirror_mode": {
    "name": "ipython",
    "version": 3
   },
   "file_extension": ".py",
   "mimetype": "text/x-python",
   "name": "python",
   "nbconvert_exporter": "python",
   "pygments_lexer": "ipython3",
   "version": "3.8.5"
  }
 },
 "nbformat": 4,
 "nbformat_minor": 5
}
